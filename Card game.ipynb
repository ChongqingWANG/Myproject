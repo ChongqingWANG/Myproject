{
 "cells": [
  {
   "cell_type": "markdown",
   "metadata": {},
   "source": [
    "# Card Game\n",
    "Two players will each start off with half the deck, then they each remove a card, compare which card has the highest value, and the player with the higher card wins both cards. "
   ]
  },
  {
   "cell_type": "markdown",
   "metadata": {},
   "source": [
    "### Logic Order: \n",
    "1. Creating a card class \n",
    "2. Creating card deck\n",
    "3. Creating a player class"
   ]
  },
  {
   "cell_type": "code",
   "execution_count": 86,
   "metadata": {},
   "outputs": [],
   "source": [
    "suits=('Spades','Hearts','Clubs','Diamonds')\n",
    "ranks=('Two','Three','Four','Five','Six','Seven','Eight','Nine','Ten','Jack','Queen','King','Ace')\n",
    "values={'Two':2,'Three':3,'Four':4,'Five':5,'Six':6,'Seven':7,'Eight':8,'Nine':9,'Ten':10,'Jack':11,'Queen':12,'King':13,'Ace':14}"
   ]
  },
  {
   "cell_type": "code",
   "execution_count": 87,
   "metadata": {},
   "outputs": [],
   "source": [
    "class Card:\n",
    "    def __init__(self,suit,rank):\n",
    "        self.suit=suit\n",
    "        self.rank=rank\n",
    "        self.values=values[rank]\n",
    "        \n",
    "    def __str__(self):\n",
    "        return f\"This is {self.values} of {self.suit}\""
   ]
  },
  {
   "cell_type": "code",
   "execution_count": 88,
   "metadata": {},
   "outputs": [],
   "source": [
    "mycard=Card(suits[2],ranks[5])"
   ]
  },
  {
   "cell_type": "code",
   "execution_count": 89,
   "metadata": {},
   "outputs": [
    {
     "name": "stdout",
     "output_type": "stream",
     "text": [
      "This is 7 of Clubs\n"
     ]
    }
   ],
   "source": [
    "print(mycard)"
   ]
  },
  {
   "cell_type": "code",
   "execution_count": 90,
   "metadata": {},
   "outputs": [
    {
     "data": {
      "text/plain": [
       "'Seven'"
      ]
     },
     "execution_count": 90,
     "metadata": {},
     "output_type": "execute_result"
    }
   ],
   "source": [
    "mycard.rank"
   ]
  },
  {
   "cell_type": "code",
   "execution_count": 91,
   "metadata": {},
   "outputs": [
    {
     "data": {
      "text/plain": [
       "7"
      ]
     },
     "execution_count": 91,
     "metadata": {},
     "output_type": "execute_result"
    }
   ],
   "source": [
    "mycard.values"
   ]
  },
  {
   "cell_type": "code",
   "execution_count": 92,
   "metadata": {},
   "outputs": [
    {
     "data": {
      "text/plain": [
       "'Clubs'"
      ]
     },
     "execution_count": 92,
     "metadata": {},
     "output_type": "execute_result"
    }
   ],
   "source": [
    "mycard.suit"
   ]
  },
  {
   "cell_type": "markdown",
   "metadata": {},
   "source": [
    "### Card Deck\n",
    "1. To create each cards first\n",
    "2. To shuffle the cards\n",
    "3. To remove one card each time"
   ]
  },
  {
   "cell_type": "code",
   "execution_count": 93,
   "metadata": {},
   "outputs": [],
   "source": [
    "from random import shuffle"
   ]
  },
  {
   "cell_type": "code",
   "execution_count": 94,
   "metadata": {},
   "outputs": [],
   "source": [
    "class Deck:\n",
    "    def __init__(self):\n",
    "        self.all_cards=[]\n",
    "        for suit in suits:\n",
    "            for rank in ranks:\n",
    "                #To define each card(values are already included)\n",
    "                self.all_cards.append(Card(suit, rank))\n",
    "    \n",
    "    def shuffle(self):\n",
    "        # shuffle function does not need to call return\n",
    "        shuffle(self.all_cards)\n",
    "        \n",
    "    def remove(self):\n",
    "        return self.all_cards.pop()"
   ]
  },
  {
   "cell_type": "code",
   "execution_count": 95,
   "metadata": {},
   "outputs": [],
   "source": [
    "mydeck=Deck()"
   ]
  },
  {
   "cell_type": "code",
   "execution_count": 96,
   "metadata": {},
   "outputs": [
    {
     "name": "stdout",
     "output_type": "stream",
     "text": [
      "<__main__.Deck object at 0x11217b650>\n"
     ]
    }
   ],
   "source": [
    "print(mydeck)"
   ]
  },
  {
   "cell_type": "code",
   "execution_count": 97,
   "metadata": {},
   "outputs": [
    {
     "data": {
      "text/plain": [
       "52"
      ]
     },
     "execution_count": 97,
     "metadata": {},
     "output_type": "execute_result"
    }
   ],
   "source": [
    "len(mydeck.all_cards)"
   ]
  },
  {
   "cell_type": "code",
   "execution_count": 98,
   "metadata": {},
   "outputs": [
    {
     "name": "stdout",
     "output_type": "stream",
     "text": [
      "This is 2 of Spades\n"
     ]
    }
   ],
   "source": [
    "print(mydeck.all_cards[0])"
   ]
  },
  {
   "cell_type": "code",
   "execution_count": 99,
   "metadata": {},
   "outputs": [
    {
     "name": "stdout",
     "output_type": "stream",
     "text": [
      "This is 3 of Spades\n"
     ]
    }
   ],
   "source": [
    "print(mydeck.all_cards[1])"
   ]
  },
  {
   "cell_type": "code",
   "execution_count": 100,
   "metadata": {},
   "outputs": [],
   "source": [
    "mydeck.shuffle()"
   ]
  },
  {
   "cell_type": "code",
   "execution_count": 101,
   "metadata": {},
   "outputs": [
    {
     "name": "stdout",
     "output_type": "stream",
     "text": [
      "This is 7 of Clubs\n"
     ]
    }
   ],
   "source": [
    "print(mydeck.all_cards[0])"
   ]
  },
  {
   "cell_type": "code",
   "execution_count": 102,
   "metadata": {},
   "outputs": [
    {
     "name": "stdout",
     "output_type": "stream",
     "text": [
      "This is 11 of Diamonds\n"
     ]
    }
   ],
   "source": [
    "print(mydeck.all_cards[1])"
   ]
  },
  {
   "cell_type": "code",
   "execution_count": 103,
   "metadata": {},
   "outputs": [],
   "source": [
    "left_cards=mydeck.remove()"
   ]
  },
  {
   "cell_type": "code",
   "execution_count": 104,
   "metadata": {},
   "outputs": [
    {
     "name": "stdout",
     "output_type": "stream",
     "text": [
      "This is 14 of Diamonds\n"
     ]
    }
   ],
   "source": [
    "print(left_cards)"
   ]
  },
  {
   "cell_type": "code",
   "execution_count": 105,
   "metadata": {},
   "outputs": [
    {
     "data": {
      "text/plain": [
       "51"
      ]
     },
     "execution_count": 105,
     "metadata": {},
     "output_type": "execute_result"
    }
   ],
   "source": [
    "len(mydeck.all_cards)"
   ]
  },
  {
   "cell_type": "markdown",
   "metadata": {},
   "source": [
    "### Player Class\n",
    "1. Define player's name\n",
    "2. Add one card or more cards on the bottom and Drop the top card"
   ]
  },
  {
   "cell_type": "code",
   "execution_count": 126,
   "metadata": {},
   "outputs": [],
   "source": [
    "class Player():\n",
    "    def __init__(self, name):\n",
    "        self.name=name\n",
    "        # define the total cards for each player\n",
    "        self.all_cards=[]\n",
    "        \n",
    "    def drop_card(self):\n",
    "        return self.all_cards.pop(0)\n",
    "        \n",
    "    def add_card(self,new_card):\n",
    "        if type(new_card)==type([]):\n",
    "            self.all_cards.extend(new_card)\n",
    "        else:\n",
    "            self.all_cards.append(new_card)\n",
    "    \n",
    "    def __str__(self):\n",
    "        return f\"{self.name} has {len(self.all_cards)} cards\"\n",
    "        "
   ]
  },
  {
   "cell_type": "code",
   "execution_count": 127,
   "metadata": {},
   "outputs": [],
   "source": [
    "lin=Player('lin')"
   ]
  },
  {
   "cell_type": "code",
   "execution_count": 128,
   "metadata": {},
   "outputs": [
    {
     "name": "stdout",
     "output_type": "stream",
     "text": [
      "lin has 0 cards\n"
     ]
    }
   ],
   "source": [
    "print(lin)"
   ]
  },
  {
   "cell_type": "code",
   "execution_count": 129,
   "metadata": {},
   "outputs": [],
   "source": [
    "lin.add_card('two_clubs')"
   ]
  },
  {
   "cell_type": "code",
   "execution_count": 130,
   "metadata": {},
   "outputs": [
    {
     "name": "stdout",
     "output_type": "stream",
     "text": [
      "lin has 1 cards\n"
     ]
    }
   ],
   "source": [
    "print(lin)"
   ]
  },
  {
   "cell_type": "markdown",
   "metadata": {},
   "source": [
    "### Game Start\n",
    "1. Define player name \n",
    "2. Setting card deck and shuffle \n",
    "3. Split cards for two players\n",
    "4. Starting game play, define win, tie"
   ]
  },
  {
   "cell_type": "code",
   "execution_count": 152,
   "metadata": {},
   "outputs": [],
   "source": [
    "player1=Player('Player1')\n",
    "player2=Player('Player2')"
   ]
  },
  {
   "cell_type": "code",
   "execution_count": 153,
   "metadata": {},
   "outputs": [],
   "source": [
    "game_card=Deck()"
   ]
  },
  {
   "cell_type": "code",
   "execution_count": 154,
   "metadata": {},
   "outputs": [],
   "source": [
    "game_card.shuffle()"
   ]
  },
  {
   "cell_type": "code",
   "execution_count": 155,
   "metadata": {},
   "outputs": [
    {
     "data": {
      "text/plain": [
       "52"
      ]
     },
     "execution_count": 155,
     "metadata": {},
     "output_type": "execute_result"
    }
   ],
   "source": [
    "len(game_card.all_cards)"
   ]
  },
  {
   "cell_type": "code",
   "execution_count": 156,
   "metadata": {},
   "outputs": [],
   "source": [
    "for i in range(26):\n",
    "    player1.add_card(game_card.remove())\n",
    "    player2.add_card(game_card.remove())\n",
    "    "
   ]
  },
  {
   "cell_type": "code",
   "execution_count": 157,
   "metadata": {},
   "outputs": [
    {
     "data": {
      "text/plain": [
       "0"
      ]
     },
     "execution_count": 157,
     "metadata": {},
     "output_type": "execute_result"
    }
   ],
   "source": [
    "len(game_card.all_cards)"
   ]
  },
  {
   "cell_type": "code",
   "execution_count": 158,
   "metadata": {},
   "outputs": [
    {
     "data": {
      "text/plain": [
       "26"
      ]
     },
     "execution_count": 158,
     "metadata": {},
     "output_type": "execute_result"
    }
   ],
   "source": [
    "len(player1.all_cards)"
   ]
  },
  {
   "cell_type": "code",
   "execution_count": 159,
   "metadata": {},
   "outputs": [
    {
     "data": {
      "text/plain": [
       "26"
      ]
     },
     "execution_count": 159,
     "metadata": {},
     "output_type": "execute_result"
    }
   ],
   "source": [
    "len(player2.all_cards)"
   ]
  },
  {
   "cell_type": "code",
   "execution_count": 160,
   "metadata": {},
   "outputs": [],
   "source": [
    "import pdb"
   ]
  },
  {
   "cell_type": "code",
   "execution_count": 161,
   "metadata": {},
   "outputs": [],
   "source": [
    "game_on=True"
   ]
  },
  {
   "cell_type": "code",
   "execution_count": 162,
   "metadata": {},
   "outputs": [
    {
     "name": "stdout",
     "output_type": "stream",
     "text": [
      "This is 1 round\n",
      "This is 2 round\n",
      "This is 3 round\n",
      "This is 4 round\n",
      "This is 5 round\n",
      "This is 6 round\n",
      "This is 7 round\n",
      "This is 8 round\n",
      "This is 9 round\n",
      "This is 10 round\n",
      "This is 11 round\n",
      "This is 12 round\n",
      "This is 13 round\n",
      "This is 14 round\n",
      "This is 15 round\n",
      "This is 16 round\n",
      "This is 17 round\n",
      "This is 18 round\n",
      "This is 19 round\n",
      "This is 20 round\n",
      "This is 21 round\n",
      "This is 22 round\n",
      "This is 23 round\n",
      "This is 24 round\n",
      "This is 25 round\n",
      "This is 26 round\n",
      "This is 27 round\n",
      "This is 28 round\n",
      "This is 29 round\n",
      "This is 30 round\n",
      "It's tie\n",
      "It's tie\n",
      "This is 31 round\n",
      "This is 32 round\n",
      "This is 33 round\n",
      "This is 34 round\n",
      "This is 35 round\n",
      "This is 36 round\n",
      "This is 37 round\n",
      "It's tie\n",
      "This is 38 round\n",
      "This is 39 round\n",
      "It's tie\n",
      "This is 40 round\n",
      "This is 41 round\n",
      "This is 42 round\n",
      "This is 43 round\n",
      "This is 44 round\n",
      "This is 45 round\n",
      "It's tie\n",
      "This is 46 round\n",
      "This is 47 round\n",
      "This is 48 round\n",
      "It's tie\n",
      "This is 49 round\n",
      "This is 50 round\n",
      "This is 51 round\n",
      "This is 52 round\n",
      "This is 53 round\n",
      "This is 54 round\n",
      "This is 55 round\n",
      "It's tie\n",
      "This is 56 round\n",
      "This is 57 round\n",
      "This is 58 round\n",
      "This is 59 round\n",
      "This is 60 round\n",
      "This is 61 round\n",
      "This is 62 round\n",
      "This is 63 round\n",
      "This is 64 round\n",
      "This is 65 round\n",
      "This is 66 round\n",
      "This is 67 round\n",
      "This is 68 round\n",
      "This is 69 round\n",
      "It's tie\n",
      "This is 70 round\n",
      "This is 71 round\n",
      "This is 72 round\n",
      "This is 73 round\n",
      "This is 74 round\n",
      "This is 75 round\n",
      "This is 76 round\n",
      "This is 77 round\n",
      "This is 78 round\n",
      "This is 79 round\n",
      "This is 80 round\n",
      "This is 81 round\n",
      "This is 82 round\n",
      "This is 83 round\n",
      "This is 84 round\n",
      "This is 85 round\n",
      "This is 86 round\n",
      "This is 87 round\n",
      "This is 88 round\n",
      "This is 89 round\n",
      "This is 90 round\n",
      "This is 91 round\n",
      "This is 92 round\n",
      "This is 93 round\n",
      "This is 94 round\n",
      "This is 95 round\n",
      "This is 96 round\n",
      "This is 97 round\n",
      "This is 98 round\n",
      "This is 99 round\n",
      "This is 100 round\n",
      "This is 101 round\n",
      "This is 102 round\n",
      "This is 103 round\n",
      "This is 104 round\n",
      "This is 105 round\n",
      "This is 106 round\n",
      "This is 107 round\n",
      "This is 108 round\n",
      "It's tie\n",
      "This is 109 round\n",
      "This is 110 round\n",
      "This is 111 round\n",
      "This is 112 round\n",
      "This is 113 round\n",
      "This is 114 round\n",
      "This is 115 round\n",
      "This is 116 round\n",
      "This is 117 round\n",
      "This is 118 round\n",
      "This is 119 round\n",
      "This is 120 round\n",
      "This is 121 round\n",
      "This is 122 round\n",
      "This is 123 round\n",
      "This is 124 round\n",
      "This is 125 round\n",
      "This is 126 round\n",
      "This is 127 round\n",
      "This is 128 round\n",
      "This is 129 round\n",
      "This is 130 round\n",
      "This is 131 round\n",
      "This is 132 round\n",
      "This is 133 round\n",
      "This is 134 round\n",
      "This is 135 round\n",
      "This is 136 round\n",
      "This is 137 round\n",
      "This is 138 round\n",
      "This is 139 round\n",
      "This is 140 round\n",
      "This is 141 round\n",
      "This is 142 round\n",
      "This is 143 round\n",
      "This is 144 round\n",
      "It's tie\n",
      "This is 145 round\n",
      "This is 146 round\n",
      "This is 147 round\n",
      "This is 148 round\n",
      "This is 149 round\n",
      "This is 150 round\n",
      "This is 151 round\n",
      "This is 152 round\n",
      "This is 153 round\n",
      "This is 154 round\n",
      "This is 155 round\n",
      "This is 156 round\n",
      "This is 157 round\n",
      "This is 158 round\n",
      "This is 159 round\n",
      "This is 160 round\n",
      "This is 161 round\n",
      "This is 162 round\n",
      "It's tie\n",
      "This is 163 round\n",
      "This is 164 round\n",
      "This is 165 round\n",
      "This is 166 round\n",
      "This is 167 round\n",
      "This is 168 round\n",
      "This is 169 round\n",
      "This is 170 round\n",
      "This is 171 round\n",
      "This is 172 round\n",
      "This is 173 round\n",
      "This is 174 round\n",
      "This is 175 round\n",
      "This is 176 round\n",
      "This is 177 round\n",
      "This is 178 round\n",
      "This is 179 round\n",
      "This is 180 round\n",
      "This is 181 round\n",
      "It's tie\n",
      "This is 182 round\n",
      "This is 183 round\n",
      "It's tie\n",
      "This is 184 round\n",
      "This is 185 round\n",
      "This is 186 round\n",
      "This is 187 round\n",
      "This is 188 round\n",
      "This is 189 round\n",
      "This is 190 round\n",
      "This is 191 round\n",
      "This is 192 round\n",
      "This is 193 round\n",
      "This is 194 round\n",
      "This is 195 round\n",
      "This is 196 round\n",
      "This is 197 round\n",
      "This is 198 round\n",
      "This is 199 round\n",
      "This is 200 round\n",
      "This is 201 round\n",
      "This is 202 round\n",
      "This is 203 round\n",
      "This is 204 round\n",
      "This is 205 round\n",
      "This is 206 round\n",
      "This is 207 round\n",
      "This is 208 round\n",
      "This is 209 round\n",
      "This is 210 round\n",
      "This is 211 round\n",
      "This is 212 round\n",
      "This is 213 round\n",
      "This is 214 round\n",
      "This is 215 round\n",
      "This is 216 round\n",
      "This is 217 round\n",
      "This is 218 round\n",
      "This is 219 round\n",
      "This is 220 round\n",
      "This is 221 round\n",
      "This is 222 round\n",
      "This is 223 round\n",
      "This is 224 round\n",
      "This is 225 round\n",
      "This is 226 round\n",
      "This is 227 round\n",
      "This is 228 round\n",
      "This is 229 round\n",
      "This is 230 round\n",
      "This is 231 round\n",
      "This is 232 round\n",
      "It's tie\n",
      "This is 233 round\n",
      "This is 234 round\n",
      "This is 235 round\n",
      "This is 236 round\n",
      "This is 237 round\n",
      "It's tie\n",
      "This is 238 round\n",
      "This is 239 round\n",
      "This is 240 round\n",
      "It's tie\n",
      "This is 241 round\n",
      "It's tie\n",
      "This is 242 round\n",
      "This is 243 round\n",
      "This is 244 round\n",
      "This is 245 round\n",
      "This is 246 round\n",
      "This is 247 round\n",
      "This is 248 round\n",
      "This is 249 round\n",
      "This is 250 round\n",
      "This is 251 round\n",
      "This is 252 round\n",
      "This is 253 round\n",
      "This is 254 round\n",
      "This is 255 round\n",
      "This is 256 round\n",
      "This is 257 round\n",
      "This is 258 round\n",
      "This is 259 round\n",
      "This is 260 round\n",
      "This is 261 round\n",
      "This is 262 round\n",
      "This is 263 round\n",
      "This is 264 round\n",
      "This is 265 round\n",
      "This is 266 round\n",
      "It's tie\n",
      "It's tie\n",
      "This is 267 round\n",
      "This is 268 round\n",
      "This is 269 round\n",
      "This is 270 round\n",
      "This is 271 round\n",
      "This is 272 round\n",
      "This is 273 round\n",
      "This is 274 round\n",
      "This is 275 round\n",
      "This is 276 round\n",
      "This is 277 round\n",
      "This is 278 round\n",
      "This is 279 round\n",
      "This is 280 round\n",
      "This is 281 round\n",
      "This is 282 round\n",
      "This is 283 round\n",
      "This is 284 round\n",
      "This is 285 round\n",
      "This is 286 round\n",
      "This is 287 round\n",
      "It's tie\n",
      "This is 288 round\n",
      "This is 289 round\n",
      "This is 290 round\n",
      "This is 291 round\n",
      "This is 292 round\n",
      "This is 293 round\n",
      "This is 294 round\n",
      "This is 295 round\n",
      "This is 296 round\n",
      "This is 297 round\n",
      "This is 298 round\n",
      "This is 299 round\n",
      "It's tie\n",
      "It's tie\n",
      "This is 300 round\n",
      "This is 301 round\n",
      "This is 302 round\n",
      "This is 303 round\n",
      "This is 304 round\n",
      "This is 305 round\n",
      "This is 306 round\n",
      "This is 307 round\n",
      "This is 308 round\n",
      "It's tie\n",
      "This is 309 round\n",
      "This is 310 round\n",
      "This is 311 round\n",
      "This is 312 round\n",
      "This is 313 round\n",
      "This is 314 round\n",
      "This is 315 round\n",
      "This is 316 round\n",
      "This is 317 round\n",
      "This is 318 round\n",
      "This is 319 round\n",
      "This is 320 round\n",
      "This is 321 round\n",
      "This is 322 round\n",
      "This is 323 round\n",
      "This is 324 round\n",
      "This is 325 round\n",
      "This is 326 round\n",
      "This is 327 round\n",
      "This is 328 round\n",
      "This is 329 round\n",
      "This is 330 round\n",
      "This is 331 round\n",
      "This is 332 round\n",
      "This is 333 round\n",
      "This is 334 round\n",
      "This is 335 round\n",
      "This is 336 round\n",
      "This is 337 round\n",
      "This is 338 round\n",
      "This is 339 round\n",
      "This is 340 round\n",
      "This is 341 round\n",
      "This is 342 round\n",
      "It's tie\n",
      "Player2 has not enough cards\n",
      "Player1 has won the game\n"
     ]
    }
   ],
   "source": [
    "round_number=0\n",
    "while game_on:\n",
    "    round_number+=1\n",
    "    print(f'This is {round_number} round')\n",
    "\n",
    "    # player1 win\n",
    "    if len(player2.all_cards)==0:\n",
    "        print(\"Player2 out of cards\")\n",
    "        print(\"Player1 win this round.\")\n",
    "        #stop this round \n",
    "        game_on=False\n",
    "        break\n",
    "    \n",
    "    # player2 win\n",
    "    if len(player1.all_cards)==0:\n",
    "        print(\"Player1 out of cards\")\n",
    "        print(\"Player2 win this round.\")\n",
    "        #stop this round \n",
    "        game_on=False\n",
    "        break\n",
    "        \n",
    "    # the game is still on, start a new round and remove cards from either player1 or player2\n",
    "    player_one_left_cards=[]\n",
    "    player_one_left_cards.append(player1.drop_card())\n",
    "    \n",
    "    player_two_left_cards=[]\n",
    "    player_two_left_cards.append(player2.drop_card())\n",
    "    \n",
    "    \n",
    "    tie=True\n",
    "    while tie:\n",
    "        if player_one_left_cards[-1].values > player_two_left_cards[-1].values:\n",
    "            player1.add_card(player_one_left_cards)\n",
    "            player1.add_card(player_two_left_cards)\n",
    "            \n",
    "            tie =False\n",
    "        \n",
    "            \n",
    "        elif player_one_left_cards[-1].values<player_two_left_cards[-1].values:\n",
    "            player2.add_card(player_one_left_cards)\n",
    "            player2.add_card(player_two_left_cards)\n",
    "            \n",
    "            tie=False\n",
    "        \n",
    "        else:\n",
    "            print(\"It's tie\")\n",
    "            \n",
    "            if len(player1.all_cards)<5:\n",
    "                print(\"Player1 has not enough cards\")\n",
    "                print(\"Player2 has won the game\")\n",
    "                game_on=False\n",
    "                break\n",
    "                \n",
    "            elif len(player2.all_cards)<5:\n",
    "                print(\"Player2 has not enough cards\")\n",
    "                print(\"Player1 has won the game\")\n",
    "                game_on=False\n",
    "                break\n",
    "            \n",
    "            else:\n",
    "                for number in range(5):\n",
    "                    player_one_left_cards.append(player1.drop_card())\n",
    "                    player_two_left_cards.append(player2.drop_card())"
   ]
  },
  {
   "cell_type": "code",
   "execution_count": null,
   "metadata": {},
   "outputs": [],
   "source": []
  },
  {
   "cell_type": "code",
   "execution_count": null,
   "metadata": {},
   "outputs": [],
   "source": []
  }
 ],
 "metadata": {
  "kernelspec": {
   "display_name": "Python 3",
   "language": "python",
   "name": "python3"
  },
  "language_info": {
   "codemirror_mode": {
    "name": "ipython",
    "version": 3
   },
   "file_extension": ".py",
   "mimetype": "text/x-python",
   "name": "python",
   "nbconvert_exporter": "python",
   "pygments_lexer": "ipython3",
   "version": "3.7.7"
  }
 },
 "nbformat": 4,
 "nbformat_minor": 4
}
