{
 "cells": [
  {
   "cell_type": "markdown",
   "metadata": {},
   "source": [
    "___\n",
    "\n",
    "<a href='https://www.udemy.com/user/joseportilla/'><img src='../../Pierian_Data_Logo.png'/></a>\n",
    "___\n",
    "<center><em>Content Copyright by Pierian Data</em></center>"
   ]
  },
  {
   "cell_type": "markdown",
   "metadata": {},
   "source": [
    "# Advanced Modules Exercise Puzzle\n",
    "\n",
    "It's time to test your new skills, this puzzle project will combine multiple skills sets, including unzipping files with Python, using os module to automatically search through lots of files.\n",
    "\n",
    "## Your Goal\n",
    "\n",
    "This is a puzzle, so we don't want to give you too much guidance and instead have you figure out things on your own.\n",
    "\n",
    "There is a .zip file called 'unzip_me_for_instructions.zip', unzip it, open the .txt file with Python, read the instructions and see if you can figure out what you need to do!\n",
    "\n",
    "**If you get stuck or don't know where to start, here is a [guide/hints](https://docs.google.com/document/d/1JxydUr4n4fSR0EwwuwT-aHia-yPK6r-oTBuVT2sqheo/edit?usp=sharing)**"
   ]
  },
  {
   "cell_type": "code",
   "execution_count": 2,
   "metadata": {},
   "outputs": [],
   "source": [
    "import shutil\n",
    "import zipfile"
   ]
  },
  {
   "cell_type": "code",
   "execution_count": 4,
   "metadata": {},
   "outputs": [],
   "source": [
    "zip_obj=zipfile.ZipFile('unzip_me_for_instructions.zip','r')\n"
   ]
  },
  {
   "cell_type": "code",
   "execution_count": 5,
   "metadata": {},
   "outputs": [],
   "source": [
    "zip_obj.extractall('extracted content')"
   ]
  },
  {
   "cell_type": "code",
   "execution_count": 18,
   "metadata": {},
   "outputs": [],
   "source": [
    "shutil.unpack_archive('unzip_me_for_instructions.zip','','zip')"
   ]
  },
  {
   "cell_type": "code",
   "execution_count": 27,
   "metadata": {},
   "outputs": [
    {
     "name": "stdout",
     "output_type": "stream",
     "text": [
      "Good work on unzipping the file!\n",
      "You should now see 5 folders, each with a lot of random .txt files.\n",
      "Within one of these text files is a telephone number formated ###-###-#### \n",
      "Use the Python os module and regular expressions to iterate through each file, open it, and search for a telephone number.\n",
      "Good luck!\n"
     ]
    }
   ],
   "source": [
    "with open('extracted content/extracted_content/Instructions.txt') as f:\n",
    "    text=f.read()\n",
    "    print(text)"
   ]
  },
  {
   "cell_type": "markdown",
   "metadata": {},
   "source": [
    "### Iterate through the files"
   ]
  },
  {
   "cell_type": "code",
   "execution_count": 28,
   "metadata": {},
   "outputs": [],
   "source": [
    "import os"
   ]
  },
  {
   "cell_type": "code",
   "execution_count": 29,
   "metadata": {},
   "outputs": [
    {
     "data": {
      "text/plain": [
       "['extracted content',\n",
       " '07-Advanced-Modules-Exercise-Puzzle.ipynb',\n",
       " '08-Advanced-Modules-Exercise-Solutions.ipynb',\n",
       " 'unzip_me_for_instructions.zip',\n",
       " '.ipynb_checkpoints',\n",
       " 'extracted_content']"
      ]
     },
     "execution_count": 29,
     "metadata": {},
     "output_type": "execute_result"
    }
   ],
   "source": [
    "os.listdir()"
   ]
  },
  {
   "cell_type": "code",
   "execution_count": 30,
   "metadata": {},
   "outputs": [
    {
     "data": {
      "text/plain": [
       "'/Users/a123/code/ChongqingWANG/Complete-Python-3-Bootcamp/12-Advanced Python Modules/08-Advanced-Python-Module-Exercise'"
      ]
     },
     "execution_count": 30,
     "metadata": {},
     "output_type": "execute_result"
    }
   ],
   "source": [
    "pwd"
   ]
  },
  {
   "cell_type": "code",
   "execution_count": 31,
   "metadata": {},
   "outputs": [
    {
     "data": {
      "text/plain": [
       "['Instructions.txt', 'Three', 'One', 'Two', 'Five', 'Four']"
      ]
     },
     "execution_count": 31,
     "metadata": {},
     "output_type": "execute_result"
    }
   ],
   "source": [
    "os.listdir('/Users/a123/code/ChongqingWANG/Complete-Python-3-Bootcamp/12-Advanced Python Modules/08-Advanced-Python-Module-Exercise/extracted content/extracted_content')"
   ]
  },
  {
   "cell_type": "code",
   "execution_count": 32,
   "metadata": {},
   "outputs": [],
   "source": [
    "import re"
   ]
  },
  {
   "cell_type": "code",
   "execution_count": 33,
   "metadata": {},
   "outputs": [],
   "source": [
    "pattern=r'\\d{3}-\\d{3}-\\d{4}'"
   ]
  },
  {
   "cell_type": "code",
   "execution_count": 37,
   "metadata": {},
   "outputs": [],
   "source": [
    "def search_number (file, pattern=pattern):\n",
    "    f=open(file, 'r')\n",
    "    text=f.read()\n",
    "    \n",
    "    if re.search(pattern,text):\n",
    "        return re.search(pattern, text)\n",
    "    else:\n",
    "        return 'Not Found'"
   ]
  },
  {
   "cell_type": "code",
   "execution_count": 38,
   "metadata": {},
   "outputs": [],
   "source": [
    "result=[]\n",
    "for folder, subfolder, files in os.walk(os.getcwd()+'/extracted content/extracted_content'):\n",
    "    for f in files:\n",
    "        full_path=folder+'/'+f\n",
    "        \n",
    "        result.append(search_number(full_path))\n",
    "    "
   ]
  },
  {
   "cell_type": "code",
   "execution_count": 40,
   "metadata": {},
   "outputs": [
    {
     "data": {
      "text/plain": [
       "['Not Found',\n",
       " 'Not Found',\n",
       " 'Not Found',\n",
       " 'Not Found',\n",
       " 'Not Found',\n",
       " 'Not Found',\n",
       " 'Not Found',\n",
       " 'Not Found',\n",
       " 'Not Found',\n",
       " 'Not Found',\n",
       " 'Not Found',\n",
       " 'Not Found',\n",
       " 'Not Found',\n",
       " 'Not Found',\n",
       " 'Not Found',\n",
       " 'Not Found',\n",
       " 'Not Found',\n",
       " 'Not Found',\n",
       " 'Not Found',\n",
       " 'Not Found',\n",
       " 'Not Found',\n",
       " 'Not Found',\n",
       " 'Not Found',\n",
       " 'Not Found',\n",
       " 'Not Found',\n",
       " 'Not Found',\n",
       " 'Not Found',\n",
       " 'Not Found',\n",
       " 'Not Found',\n",
       " 'Not Found',\n",
       " 'Not Found',\n",
       " 'Not Found',\n",
       " 'Not Found',\n",
       " 'Not Found',\n",
       " 'Not Found',\n",
       " 'Not Found',\n",
       " 'Not Found',\n",
       " 'Not Found',\n",
       " 'Not Found',\n",
       " 'Not Found',\n",
       " 'Not Found',\n",
       " 'Not Found',\n",
       " 'Not Found',\n",
       " 'Not Found',\n",
       " 'Not Found',\n",
       " 'Not Found',\n",
       " 'Not Found',\n",
       " 'Not Found',\n",
       " 'Not Found',\n",
       " 'Not Found',\n",
       " 'Not Found',\n",
       " 'Not Found',\n",
       " 'Not Found',\n",
       " 'Not Found',\n",
       " 'Not Found',\n",
       " 'Not Found',\n",
       " 'Not Found',\n",
       " 'Not Found',\n",
       " 'Not Found',\n",
       " 'Not Found',\n",
       " 'Not Found',\n",
       " 'Not Found',\n",
       " 'Not Found',\n",
       " 'Not Found',\n",
       " 'Not Found',\n",
       " 'Not Found',\n",
       " 'Not Found',\n",
       " 'Not Found',\n",
       " 'Not Found',\n",
       " 'Not Found',\n",
       " 'Not Found',\n",
       " 'Not Found',\n",
       " 'Not Found',\n",
       " 'Not Found',\n",
       " 'Not Found',\n",
       " 'Not Found',\n",
       " 'Not Found',\n",
       " 'Not Found',\n",
       " 'Not Found',\n",
       " 'Not Found',\n",
       " 'Not Found',\n",
       " 'Not Found',\n",
       " 'Not Found',\n",
       " 'Not Found',\n",
       " 'Not Found',\n",
       " 'Not Found',\n",
       " 'Not Found',\n",
       " 'Not Found',\n",
       " 'Not Found',\n",
       " 'Not Found',\n",
       " 'Not Found',\n",
       " 'Not Found',\n",
       " 'Not Found',\n",
       " 'Not Found',\n",
       " 'Not Found',\n",
       " 'Not Found',\n",
       " 'Not Found',\n",
       " 'Not Found',\n",
       " 'Not Found',\n",
       " 'Not Found',\n",
       " <re.Match object; span=(1062, 1074), match='719-266-2837'>,\n",
       " 'Not Found',\n",
       " 'Not Found',\n",
       " 'Not Found',\n",
       " 'Not Found',\n",
       " 'Not Found',\n",
       " 'Not Found',\n",
       " 'Not Found',\n",
       " 'Not Found',\n",
       " 'Not Found',\n",
       " 'Not Found',\n",
       " 'Not Found',\n",
       " 'Not Found',\n",
       " 'Not Found',\n",
       " 'Not Found',\n",
       " 'Not Found',\n",
       " 'Not Found',\n",
       " 'Not Found',\n",
       " 'Not Found',\n",
       " 'Not Found',\n",
       " 'Not Found']"
      ]
     },
     "execution_count": 40,
     "metadata": {},
     "output_type": "execute_result"
    }
   ],
   "source": [
    "result"
   ]
  },
  {
   "cell_type": "code",
   "execution_count": 41,
   "metadata": {},
   "outputs": [
    {
     "name": "stdout",
     "output_type": "stream",
     "text": [
      "719-266-2837\n"
     ]
    }
   ],
   "source": [
    "for r in result:\n",
    "    if r!='Not Found':\n",
    "        print(r.group())"
   ]
  },
  {
   "cell_type": "code",
   "execution_count": null,
   "metadata": {},
   "outputs": [],
   "source": []
  }
 ],
 "metadata": {
  "anaconda-cloud": {},
  "kernelspec": {
   "display_name": "Python 3",
   "language": "python",
   "name": "python3"
  },
  "language_info": {
   "codemirror_mode": {
    "name": "ipython",
    "version": 3
   },
   "file_extension": ".py",
   "mimetype": "text/x-python",
   "name": "python",
   "nbconvert_exporter": "python",
   "pygments_lexer": "ipython3",
   "version": "3.7.7"
  }
 },
 "nbformat": 4,
 "nbformat_minor": 2
}
